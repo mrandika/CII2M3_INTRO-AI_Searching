{
  "nbformat": 4,
  "nbformat_minor": 0,
  "metadata": {
    "colab": {
      "name": "Tupro 1: Searching.ipynb",
      "provenance": []
    },
    "kernelspec": {
      "name": "python3",
      "display_name": "Python 3"
    },
    "language_info": {
      "name": "python"
    }
  },
  "cells": [
    {
      "cell_type": "code",
      "source": [
        "# Depends on\n",
        "import random\n",
        "import math\n",
        "\n",
        "# Benchmark\n",
        "import time"
      ],
      "metadata": {
        "id": "-0TNQ6aWY2J4"
      },
      "execution_count": null,
      "outputs": []
    },
    {
      "cell_type": "markdown",
      "source": [
        "**Decode Binary Function**\n",
        "\n",
        "This function utilizes binary representation (see Pokok Bahasan 4 p. 14).\n",
        "\n",
        "Returns the value of given binary bit\n",
        "\n",
        "Arguments:\n",
        "\n",
        "1. ***bit***, list, required\n",
        "2. ***lower***, integer, optional, default -5\n",
        "3. ***upper***, integer, optional, default 5"
      ],
      "metadata": {
        "id": "gpsmyG-MZqlF"
      }
    },
    {
      "cell_type": "code",
      "source": [
        "def decodeBinary(bit: list, lower: int = -5, upper: int = 5) -> float:\n",
        "  bitLength = len(bit)\n",
        "  summation = [2**-i for i in range(1, bitLength + 1)]\n",
        "  constant = sum([bit[i] * summation[i] for i in range(bitLength)])\n",
        "\n",
        "  return lower + ((upper - lower) / sum(summation) * constant)"
      ],
      "metadata": {
        "id": "Scwmjl9VZRiK"
      },
      "execution_count": null,
      "outputs": []
    },
    {
      "cell_type": "markdown",
      "source": [
        "**Heuristic Function**\n",
        "\n",
        "Returns the value of given x and y of given heuristic function\n",
        "\n",
        "Arguments:\n",
        "\n",
        "1. ***x***, integer, required\n",
        "2. ***y***, integer, required\n",
        "\n",
        "**Fitness Function**\n",
        "\n",
        "This function utilizes fitness function (see Pokok Bahasan 4 p. 19).\n",
        "\n",
        "Returns the value of given heuristic function its fitness value\n",
        "\n",
        "Arguments:\n",
        "\n",
        "1. ***x***, integer, required\n",
        "2. ***y***, integer, required"
      ],
      "metadata": {
        "id": "tG5MMFYjYqek"
      }
    },
    {
      "cell_type": "code",
      "source": [
        "def f(x: int, y: int) -> float:\n",
        "  def h(x: int, y: int) -> float:\n",
        "    return ((math.cos(x) + math.sin(y))**2) / (x**2) + (y**2)\n",
        "\n",
        "  a = random.uniform(0.01, 0.1)\n",
        "  return 1 / (h(x, y) + a)"
      ],
      "metadata": {
        "id": "oK5c24RAXqur"
      },
      "execution_count": null,
      "outputs": []
    },
    {
      "cell_type": "markdown",
      "source": [
        "**Compute Chromosome Function**\n",
        "\n",
        "Returns the computed value in a dictionary of a chromosome\n",
        "\n",
        "Arguments:\n",
        "\n",
        "1. ***x***, list of x bit, required \n",
        "2. ***y***, list of y bit, required "
      ],
      "metadata": {
        "id": "FIKy8phFj3M5"
      }
    },
    {
      "cell_type": "code",
      "source": [
        "def computeChromosome(x: list, y: list) -> dict:\n",
        "  xPhenotype = decodeBinary(x)\n",
        "  yPhenotype = decodeBinary(y)\n",
        "\n",
        "  return {\n",
        "      \"chromosome\": x + y,\n",
        "      \"fitness\": f(xPhenotype, yPhenotype),\n",
        "      \"genotype\": {\n",
        "          \"x\": x,\n",
        "          \"y\": y\n",
        "      },\n",
        "      \"phenotype\": {\n",
        "          \"x\": xPhenotype,\n",
        "          \"y\": yPhenotype\n",
        "      }\n",
        "  }"
      ],
      "metadata": {
        "id": "xLmsRnsZjHEf"
      },
      "execution_count": null,
      "outputs": []
    },
    {
      "cell_type": "markdown",
      "source": [
        "**Build Chromosome Function**\n",
        "\n",
        "Returns the computed value of a recently built chromosome\n",
        "\n",
        "Arguments:\n",
        "\n",
        "1. ***length***, integer, optional, default 10"
      ],
      "metadata": {
        "id": "PEY4xB7Ffs6L"
      }
    },
    {
      "cell_type": "code",
      "source": [
        "def buildChromosome(GENOTYPE_LENGTH: int = 10) -> dict:\n",
        "  x = random.choices([0, 1], k = GENOTYPE_LENGTH)\n",
        "  y = random.choices([0, 1], k = GENOTYPE_LENGTH)\n",
        "\n",
        "  return computeChromosome(x, y)"
      ],
      "metadata": {
        "id": "CHbsUMPDeb7z"
      },
      "execution_count": null,
      "outputs": []
    },
    {
      "cell_type": "markdown",
      "source": [
        "**Parent Selection Function**\n",
        "\n",
        "This function utilizes Tournament Selection (see Pokok Bahasan 4 p. 27).\n",
        "\n",
        "Returns 1 parent in a tournament pool with highest fitness value\n",
        "\n",
        "```\n",
        "Example returned value:\n",
        "{\n",
        "    \"chromosome\": 010111101000,\n",
        "    \"fitness\": 95.123456789,\n",
        "    \"genotype\": {\n",
        "        \"x\": 010111,\n",
        "        \"y\": 101000\n",
        "    },\n",
        "    \"phenotype\": {\n",
        "        \"x\": 2,\n",
        "        \"y\": -1\n",
        "    }\n",
        "}\n",
        "```\n",
        "\n",
        "Arguments:\n",
        "\n",
        "1. ***populations***, list of chromosome, required\n",
        "2. ***poolSize***, integer, optional, default 5"
      ],
      "metadata": {
        "id": "R36-8OUrcoWk"
      }
    },
    {
      "cell_type": "code",
      "source": [
        "def selectParent(populations: list, PARENT_POOL_SIZE: int = 5) -> dict:\n",
        "  pool = random.sample(populations, PARENT_POOL_SIZE)\n",
        "\n",
        "  return sorted(pool, key = lambda x: x[\"fitness\"], reverse = True)[0]"
      ],
      "metadata": {
        "id": "rqj-W83ibKyD"
      },
      "execution_count": null,
      "outputs": []
    },
    {
      "cell_type": "markdown",
      "source": [
        "**Crossover Function**\n",
        "\n",
        "This function utilizes 1-point recombination (see Pokok Bahasan 4 p. 32).\n",
        "\n",
        "Returns array of crossed chromosome between x and y (if the probability). Otherwise returns x and y\n",
        "\n",
        "```\n",
        "Example of a given parents:\n",
        "[0, 0, 0, 0, 1, 1, 0, 0, 0, 1, 1, 0, 0, 0, 1, 0, 0, 0, 1, 1],\n",
        "[0, 0, 0, 1, 0, 0, 1, 1, 0, 1, 1, 0, 0, 1, 0, 0, 0, 0, 0, 0]\n",
        "\n",
        "Intersection Point: 2\n",
        "\n",
        "Example returned value:\n",
        "[\n",
        "  {\n",
        "    'chromosome': [0, 0, 0, 1, 0, 0, 1, 1, 0, 1, 1, 0, 0, 1, 0, 0, 0, 0, 0, 1], \n",
        "    'fitness': 1.7603062053954148, \n",
        "    'genotype': {\n",
        "      'x': [0, 0, 0, 1, 0, 0, 1, 1, 0, 1], \n",
        "      'y': [1, 0, 0, 1, 0, 0, 0, 0, 0, 1]\n",
        "    }, \n",
        "    'phenotype': {\n",
        "      'x': -4.247311827956989, \n",
        "      'y': 0.6402737047898341\n",
        "    }\n",
        "  }, \n",
        "  {\n",
        "    'chromosome': [0, 0, 0, 0, 1, 1, 0, 0, 0, 1, 1, 0, 0, 0, 1, 0, 0, 0, 1, 0],\n",
        "    'fitness': 1.73262076789398, \n",
        "    'genotype': {\n",
        "      'x': [0, 0, 0, 0, 1, 1, 0, 0, 0, 1], \n",
        "      'y': [1, 0, 0, 0, 1, 0, 0, 0, 1, 0]\n",
        "    }, \n",
        "    'phenotype': {\n",
        "      'x': -4.521016617790812, \n",
        "      'y': 0.3372434017595305\n",
        "    }\n",
        "  }\n",
        "]\n",
        "```\n",
        "\n",
        "\n",
        "\n",
        "Arguments:\n",
        "\n",
        "1. ***x***, dictionary of a chromosome, required\n",
        "2. ***y***, dictionary of a chromosome, required\n",
        "3. ***length***, integer, optional, default 10 (a x or y bit length)\n",
        "4. ***rate***, float, optional, default 0.7 "
      ],
      "metadata": {
        "id": "fBUenDn5Am2o"
      }
    },
    {
      "cell_type": "code",
      "source": [
        "def crossover(x: dict, y: dict, GENOTYPE_LENGTH: int = 10, CROSSOVER_RATE = 0.7) -> list:\n",
        "  chromosomeLength = 2 * GENOTYPE_LENGTH\n",
        "  divider = chromosomeLength // 2\n",
        "  intersectionPoint = random.randint(0, chromosomeLength - 1)\n",
        "\n",
        "  if random.uniform(0, 1) <= CROSSOVER_RATE:\n",
        "    childs = {\n",
        "      \"x\": y[\"chromosome\"][:intersectionPoint] + x[\"chromosome\"][intersectionPoint:],\n",
        "      \"y\": x[\"chromosome\"][:intersectionPoint] + y[\"chromosome\"][intersectionPoint:]\n",
        "    }\n",
        "\n",
        "    return [computeChromosome(childs[i][:divider], childs[i][divider:]) for i in childs.keys()]\n",
        "  else:\n",
        "    return [x, y]"
      ],
      "metadata": {
        "id": "q3zc0CC2rWJr"
      },
      "execution_count": null,
      "outputs": []
    },
    {
      "cell_type": "markdown",
      "source": [
        "**Mutate Function**\n",
        "\n",
        "This function utilizes Mutation for Binary Representation (see Pokok Bahasan 4 p. 49).\n",
        "\n",
        "Returns a mutated chromosome child dictionary\n",
        "\n",
        "Arguments:\n",
        "\n",
        "1. ***x***, dictionary of a chromosome, required\n",
        "2. ***length***, integer, optional, default 10 (a x or y bit length)\n",
        "3. ***rate***, float, optional, default 0.01 (2 in 20 (the chromosome length))"
      ],
      "metadata": {
        "id": "kKHkBcwyKfj7"
      }
    },
    {
      "cell_type": "code",
      "source": [
        "def mutate(x: dict, GENOTYPE_LENGTH: int = 10, MUTATION_RATE: int = 0.01) -> dict:\n",
        "  chromosomeLength = 2 * GENOTYPE_LENGTH\n",
        "  divider = chromosomeLength // 2\n",
        "\n",
        "  for i in range(chromosomeLength):\n",
        "    if random.uniform(0, 1) <= MUTATION_RATE:\n",
        "      if x[\"chromosome\"][i] == 0:\n",
        "        x[\"chromosome\"][i] = 1\n",
        "      else:\n",
        "        x[\"chromosome\"][i] = 0\n",
        "\n",
        "  xBit = x[\"chromosome\"][:divider]\n",
        "  yBit = x[\"chromosome\"][divider:]\n",
        "\n",
        "  return computeChromosome(xBit, yBit)"
      ],
      "metadata": {
        "id": "kB6SPFWwJsu3"
      },
      "execution_count": null,
      "outputs": []
    },
    {
      "cell_type": "markdown",
      "source": [
        "**Survivor Selection Function**\n",
        "\n",
        "This function utilizes Generational Survivor Selection (see Pokok Bahasan 4 p. 63).\n",
        "\n",
        "Returns a N (half from crossover, and another half from mutated) sized new populations. Mutated population always sacrified for elitism.\n",
        "\n",
        "Arguments:\n",
        "\n",
        "1. ***childs***, list, required\n",
        "2. ***populations***, list, required\n",
        "3. ***length***, integer, optional, default 10\n",
        "4. ***crossoverRate***, float, optional, default 0.7\n",
        "5. ***mutationRate***, float, optional, default 0.1\n",
        "6. ***parentPoolSize***, integer, optional, default 5\n",
        "7. ***matingPoolSize***, integer, optional, default 25"
      ],
      "metadata": {
        "id": "04BEsBc3Yema"
      }
    },
    {
      "cell_type": "code",
      "source": [
        "def survivorSelection(childs: list, populations: list, GENOTYPE_LENGTH = 10, CROSSOVER_RATE = 0.7, MUTATION_RATE = 0.01, PARENT_POOL_SIZE = 5, MATING_POOL_SIZE = 25) -> list:\n",
        "  for child in childs:\n",
        "    if child[\"fitness\"] > populations[-1][\"fitness\"]:\n",
        "      populations[-1] = child\n",
        "\n",
        "  # Elitism\n",
        "  bestIndividual = populations[0]\n",
        "\n",
        "  pool = [[selectParent(populations, PARENT_POOL_SIZE) for j in range(2)] for i in range(MATING_POOL_SIZE)]\n",
        "  crossoverPopulation = [crossover(pool[i][0], pool[i][1], GENOTYPE_LENGTH, CROSSOVER_RATE) for i in range(MATING_POOL_SIZE)]\n",
        "\n",
        "  newPopulation = [mutate(crossoverPopulation[i][0], GENOTYPE_LENGTH, MUTATION_RATE) for i in range(MATING_POOL_SIZE)] + [mutate(crossoverPopulation[i][1], GENOTYPE_LENGTH, MUTATION_RATE) for i in range(MATING_POOL_SIZE)]\n",
        "  newPopulation.append(bestIndividual)\n",
        "\n",
        "  return sorted(newPopulation, key = lambda x: x[\"fitness\"], reverse = True)"
      ],
      "metadata": {
        "id": "TEsR9ZWhX9mE"
      },
      "execution_count": null,
      "outputs": []
    },
    {
      "cell_type": "markdown",
      "source": [
        "**Generate Population Function**\n",
        "\n",
        "Returns a list containing genetic information in specified min and max domain\n",
        "\n",
        "```\n",
        "Example returned value:\n",
        "[{\n",
        "      \"chromosome\": 101000010111,\n",
        "      \"fitness\": 0.0123456789,\n",
        "      \"genotype\": {\n",
        "          \"x\": 101000,\n",
        "          \"y\": 010111\n",
        "      },\n",
        "      \"phenotype\": {\n",
        "          \"x\": -1,\n",
        "          \"y\": 2\n",
        "      }\n",
        "}, ..., {\n",
        "      \"chromosome\": 010111101000,\n",
        "      \"fitness\": 0.0123456789,\n",
        "      \"genotype\": {\n",
        "          \"x\": 010111,\n",
        "          \"y\": 101000\n",
        "      },\n",
        "      \"phenotype\": {\n",
        "          \"x\": 2,\n",
        "          \"y\": -1\n",
        "      }\n",
        "}]\n",
        "```\n",
        "\n",
        "Arguments:\n",
        "\n",
        "1. ***length***, integer, optional, default 10\n",
        "2. ***size***, integer, optional, default 50 (number of population)"
      ],
      "metadata": {
        "id": "yqAgm54zaNHs"
      }
    },
    {
      "cell_type": "code",
      "source": [
        "def generatePopulation(GENOTYPE_LENGTH: int = 10, POPULATION_SIZE: int = 50) -> list:\n",
        "  return [buildChromosome(GENOTYPE_LENGTH) for i in range(POPULATION_SIZE)]"
      ],
      "metadata": {
        "id": "nBlLUVxjYWmu"
      },
      "execution_count": null,
      "outputs": []
    },
    {
      "cell_type": "code",
      "source": [
        "def main():\n",
        "  start = time.time()\n",
        "  print(\"Hello, mom!\")\n",
        "\n",
        "  # Constant\n",
        "  POPULATION_SIZE = 50\n",
        "  PARENT_POOL_SIZE = 5\n",
        "  GENOTYPE_LENGTH = 10\n",
        "  CROSSOVER_RATE = 0.7\n",
        "  MUTATION_RATE = 0.01\n",
        "  MATING_POOL_SIZE = POPULATION_SIZE // 2\n",
        "  MAX_GENERATION = 10000\n",
        "\n",
        "  # Initial Population\n",
        "  populations = sorted(generatePopulation(GENOTYPE_LENGTH, POPULATION_SIZE), key = lambda x: x[\"fitness\"], reverse = True)\n",
        "\n",
        "  # Evaluation Variable\n",
        "  generation = 0\n",
        "  bestIndividual = populations[0]\n",
        "  MIN_THRESHOLD = 99.0\n",
        "\n",
        "  while bestIndividual[\"fitness\"] <= MIN_THRESHOLD and generation < MAX_GENERATION:\n",
        "    generation = generation + 1\n",
        "\n",
        "    x = selectParent(populations, PARENT_POOL_SIZE)\n",
        "    y = selectParent(populations, PARENT_POOL_SIZE)\n",
        "\n",
        "    xChild, yChild = crossover(x, y, GENOTYPE_LENGTH, CROSSOVER_RATE)\n",
        "\n",
        "    xMutant = mutate(xChild, GENOTYPE_LENGTH, MUTATION_RATE)\n",
        "    yMutant = mutate(yChild, GENOTYPE_LENGTH, MUTATION_RATE)\n",
        "\n",
        "    childs = [xMutant, yMutant]\n",
        "\n",
        "    survivor = survivorSelection(childs, populations, GENOTYPE_LENGTH, CROSSOVER_RATE, MUTATION_RATE, PARENT_POOL_SIZE, MATING_POOL_SIZE)\n",
        "    populations = survivor\n",
        "\n",
        "    bestIndividual = populations[0]\n",
        "\n",
        "  print(f\"Generation\", generation)\n",
        "\n",
        "  if bestIndividual[\"fitness\"] >= MIN_THRESHOLD:\n",
        "    print(\"Evolution stopped because a fitness above\", MIN_THRESHOLD, \"have been found\")\n",
        "  elif generation >= MAX_GENERATION:\n",
        "    print(\"Evolution stopped because generation have exceed\", MAX_GENERATION)\n",
        "\n",
        "  print(\"\\nAll time best value:\")\n",
        "  print(f\"Chromosome:\", ''.join([str(bit) for bit in bestIndividual[\"chromosome\"]]))\n",
        "  print(f\"Fitness:\", bestIndividual[\"fitness\"])\n",
        "  print(f\"Phenotype (X):\", bestIndividual[\"phenotype\"][\"x\"])\n",
        "  print(f\"Phenotype (Y):\", bestIndividual[\"phenotype\"][\"y\"])\n",
        "\n",
        "  print(f\"\\nElapsed: \", time.time() - start)"
      ],
      "metadata": {
        "id": "gHlD8iBvZtOI"
      },
      "execution_count": null,
      "outputs": []
    },
    {
      "cell_type": "code",
      "source": [
        "if __name__ == \"__main__\":\n",
        "  main()"
      ],
      "metadata": {
        "colab": {
          "base_uri": "https://localhost:8080/"
        },
        "id": "3U204UVWZxUr",
        "outputId": "45a4ee13-e642-4789-aa70-1b7811067c43"
      },
      "execution_count": null,
      "outputs": [
        {
          "output_type": "stream",
          "name": "stdout",
          "text": [
            "Hello, mom!\n",
            "Generation 457\n",
            "Evolution stopped because a fitness above 99.0 have been found\n",
            "\n",
            "All time best value:\n",
            "Chromosome: 00000111111000000000\n",
            "Fitness: 99.53636667320501\n",
            "Phenotype (X): -4.696969696969697\n",
            "Phenotype (Y): 0.004887585532746819\n",
            "\n",
            "Elapsed:  1.0598375797271729\n"
          ]
        }
      ]
    }
  ]
}